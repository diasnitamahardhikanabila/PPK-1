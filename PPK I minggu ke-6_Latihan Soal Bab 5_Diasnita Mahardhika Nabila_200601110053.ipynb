{
 "cells": [
  {
   "cell_type": "markdown",
   "id": "62033d84",
   "metadata": {},
   "source": [
    "## Diasnita Mahardhika Nabila_200601110053\n",
    "### Latihan Bab 5"
   ]
  },
  {
   "cell_type": "code",
   "execution_count": 1,
   "id": "77d16462",
   "metadata": {},
   "outputs": [
    {
     "name": "stdout",
     "output_type": "stream",
     "text": [
      "Jika user memasukkan N= 5\n",
      "Bilangan genap ke-  1  : 0\n",
      "Bilangan genap ke-  2  : 2\n",
      "Bilangan genap ke-  3  : 4\n",
      "Bilangan genap ke-  4  : 6\n",
      "Bilangan genap ke-  5  : 8\n",
      "Total =  20\n"
     ]
    }
   ],
   "source": [
    "#Nomor 1\n",
    "\n",
    "A=int(input(\"Jika user memasukkan N= \"))\n",
    "angka=0\n",
    "b=0\n",
    "t=0\n",
    "for i in range(0,A*2,2):\n",
    "    angka=angka+i\n",
    "    b=b+1\n",
    "    t=t+i\n",
    "    print(\"Bilangan genap ke- \",b,\" :\",i)\n",
    "print(\"Total = \",t)"
   ]
  },
  {
   "cell_type": "code",
   "execution_count": 2,
   "id": "653507dd",
   "metadata": {},
   "outputs": [
    {
     "name": "stdout",
     "output_type": "stream",
     "text": [
      "Jika user masukkan N= 3\n",
      "Urutan bilangan kuadrat: \n",
      "1 4 9 Total hasil penjumlahan bilangan kuadrat=  14\n"
     ]
    }
   ],
   "source": [
    "#Nomor 2\n",
    "\n",
    "i, N, jumlah=1, 0, 0\n",
    "\n",
    "N=int(input(\"Jika user masukkan N= \"))\n",
    "print(\"Urutan bilangan kuadrat: \")\n",
    "while True:\n",
    "    jumlah+=i*i\n",
    "    print(i*i, end=' ')\n",
    "    i+=1\n",
    "    if i>N:\n",
    "        break\n",
    "print(\"Total hasil penjumlahan bilangan kuadrat= \",jumlah)"
   ]
  },
  {
   "cell_type": "code",
   "execution_count": 3,
   "id": "ede75cc7",
   "metadata": {},
   "outputs": [
    {
     "name": "stdout",
     "output_type": "stream",
     "text": [
      "Jika user memasukkan N= 993312\n",
      "Jumlah digit yang ganjil:  5\n"
     ]
    }
   ],
   "source": [
    "#Nomor 3\n",
    "\n",
    "P=input(\"Jika user memasukkan N= \")\n",
    "ganjil=0\n",
    "g=''\n",
    "for i in P:\n",
    "    if i in'13579':\n",
    "        ganjil=ganjil+1\n",
    "        g=g+i+''\n",
    "print(\"Jumlah digit yang ganjil: \",ganjil)"
   ]
  }
 ],
 "metadata": {
  "kernelspec": {
   "display_name": "Python 3 (ipykernel)",
   "language": "python",
   "name": "python3"
  },
  "language_info": {
   "codemirror_mode": {
    "name": "ipython",
    "version": 3
   },
   "file_extension": ".py",
   "mimetype": "text/x-python",
   "name": "python",
   "nbconvert_exporter": "python",
   "pygments_lexer": "ipython3",
   "version": "3.9.7"
  }
 },
 "nbformat": 4,
 "nbformat_minor": 5
}
