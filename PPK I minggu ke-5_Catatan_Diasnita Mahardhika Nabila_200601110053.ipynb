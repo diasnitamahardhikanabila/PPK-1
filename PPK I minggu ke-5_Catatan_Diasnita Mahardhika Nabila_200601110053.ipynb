{
 "cells": [
  {
   "cell_type": "markdown",
   "id": "735e83c7",
   "metadata": {},
   "source": [
    "# BAB 4. FUNGSI\n",
    "Fungsi adalah bagian atau blok program yang berisi satu tugas spesifik. Ketika dipanggil, fungsi ada yang menghasilkan atau mengembalikan nilai dan ada juga yang tidak. Nilai yang dihasilkan oleh fungsi disebut dengan istilah nilai balik (return value). Dalam beberapa bahasa pemrograman lain, fungsi dengan nilai balik disebut fungsi dan fungsi tanpa nilai balik disebut prosedur. fungsi hanya perlu didefinisikan satu kali, tapi dapat digunakan atau dipanggil berkali-kali. Dalam Phyton, fungsi didefinisikan menggunakan perintah def melalui bentuk umum berikut :\n",
    "\n",
    "##### def NamaFungsi(parameter1,parameter2,...):\n",
    "    #badan fungsi\n",
    "    \n",
    "Daftar parameter dari suatu fungsi bersifat opsional, tapi sebagian besar fungsi pada umumnya memiliki satu parameter atau lebih. Terdapat empat jenis fungsi yang dapat dibuat di dalam Phyton, yaitu : fungsi global, fungsi lokal, dan fungsi lambda."
   ]
  },
  {
   "cell_type": "markdown",
   "id": "6ccf7ac9",
   "metadata": {},
   "source": [
    "## 4.1 Fungsi Global\n",
    "Fungsi global adalah fungsi yang didefinisikan di dalam suatu modul dan dapat dipanggil oleh fungsi lain, baik yang berada di dalam modul yang sama maupun modul lain."
   ]
  },
  {
   "cell_type": "code",
   "execution_count": 1,
   "id": "1828ae82",
   "metadata": {},
   "outputs": [
    {
     "data": {
      "text/plain": [
       "50"
      ]
     },
     "execution_count": 1,
     "metadata": {},
     "output_type": "execute_result"
    }
   ],
   "source": [
    "def kali(a,b):\n",
    "    c=a*b\n",
    "    return c #mengembalikan nilai ke baris pemanggil\n",
    "def tulis(s):\n",
    "    print(s)\n",
    "z=kali(10,5)\n",
    "z"
   ]
  },
  {
   "cell_type": "code",
   "execution_count": 2,
   "id": "6cab8b26",
   "metadata": {},
   "outputs": [
    {
     "name": "stdout",
     "output_type": "stream",
     "text": [
      "Pemrograman Komputer I dengan Python\n"
     ]
    }
   ],
   "source": [
    "tulis('Pemrograman Komputer I dengan Python')"
   ]
  },
  {
   "cell_type": "code",
   "execution_count": 3,
   "id": "38d8bec0",
   "metadata": {},
   "outputs": [
    {
     "name": "stdout",
     "output_type": "stream",
     "text": [
      "50\n"
     ]
    }
   ],
   "source": [
    "tulis(z)"
   ]
  },
  {
   "cell_type": "markdown",
   "id": "f37e3a5f",
   "metadata": {},
   "source": [
    "## 4.2 Fungsi Lokal\n",
    "Fungsi lokal adalah fungsi yang didefinisikan di dalam fungsi lain. fungsi lokal sering disebut fungsi bersarang (nested function). berbeda dengan fungsi global, fungsi lokal hanya akan dikenal oleh fungsi luar tempat fungsi lokal tersebut didefinisikan."
   ]
  },
  {
   "cell_type": "code",
   "execution_count": 4,
   "id": "90d50424",
   "metadata": {},
   "outputs": [
    {
     "name": "stdout",
     "output_type": "stream",
     "text": [
      "Persentase: 33.333333\t33.333333\t33.333333\n"
     ]
    }
   ],
   "source": [
    "def persentase(a,b,c):\n",
    "    def hitungPersen(x):\n",
    "        total=a+b+c\n",
    "        return(x*100.0)/total\n",
    "    print(\"Persentase: %f\\t%f\\t%f\" %(hitungPersen(a),hitungPersen(b),hitungPersen(c)))\n",
    "persentase(50,50,50)"
   ]
  },
  {
   "cell_type": "code",
   "execution_count": 5,
   "id": "e0216b78",
   "metadata": {},
   "outputs": [
    {
     "name": "stdout",
     "output_type": "stream",
     "text": [
      "Persentase: 20.000000\t60.000000\t20.000000\n"
     ]
    }
   ],
   "source": [
    "persentase(30,90,30)"
   ]
  },
  {
   "cell_type": "markdown",
   "id": "035a0a36",
   "metadata": {},
   "source": [
    "## 4.3 Fungsi Lambda\n",
    "Fungsi lambda adalah suatu ekspresi untuk menangani tugas-tugas pemrograman yang sederhana. Fungsi jenis ini sering dikenal dengan fungsi tanpa nama (anonymous function) dan dibuat menggunakan kata kunci lambda. Bentuk umum penggunaan kata kunci lambda adalah sebagai berikut :\n",
    "\n",
    "##### lambda DaftarParameter: ekspresi\n",
    "\n",
    "Berikut ini contoh kode yang menunjukkan penggunaan kata kunci lamda."
   ]
  },
  {
   "cell_type": "code",
   "execution_count": 6,
   "id": "8799d17b",
   "metadata": {},
   "outputs": [
    {
     "data": {
      "text/plain": [
       "20"
      ]
     },
     "execution_count": 6,
     "metadata": {},
     "output_type": "execute_result"
    }
   ],
   "source": [
    "maks=lambda a,b: a if a>b else b\n",
    "maks(20,10)"
   ]
  },
  {
   "cell_type": "code",
   "execution_count": 7,
   "id": "b0681205",
   "metadata": {},
   "outputs": [
    {
     "data": {
      "text/plain": [
       "200"
      ]
     },
     "execution_count": 7,
     "metadata": {},
     "output_type": "execute_result"
    }
   ],
   "source": [
    "maks(100,200)"
   ]
  },
  {
   "cell_type": "markdown",
   "id": "e4c43cbf",
   "metadata": {},
   "source": [
    "Jika ditulis dalam bentuk fungsi normal, kode di atas dapat diubah menjadi seperti berikut:"
   ]
  },
  {
   "cell_type": "code",
   "execution_count": 8,
   "id": "c41e6679",
   "metadata": {},
   "outputs": [
    {
     "data": {
      "text/plain": [
       "20"
      ]
     },
     "execution_count": 8,
     "metadata": {},
     "output_type": "execute_result"
    }
   ],
   "source": [
    "def maks(a,b):\n",
    "    if a>b:\n",
    "        return a\n",
    "    else:\n",
    "        return b\n",
    "maks(20,10)"
   ]
  },
  {
   "cell_type": "code",
   "execution_count": 9,
   "id": "edb2f4f3",
   "metadata": {},
   "outputs": [
    {
     "data": {
      "text/plain": [
       "200"
      ]
     },
     "execution_count": 9,
     "metadata": {},
     "output_type": "execute_result"
    }
   ],
   "source": [
    "maks(100,200)"
   ]
  },
  {
   "cell_type": "markdown",
   "id": "86640e8a",
   "metadata": {},
   "source": [
    "Terdapat beberapa hal yang tidak dapat dilakukan pada fungsi \n",
    "lambda, sehingga kita perlu menggunakan fungsi normal. jika anda ingin menyertakan struktur pengulangan for maupun while, perintah\u0002perintah non-ekspresi, dan perintah yang berjumlah lebih dari satu, maka anda tidak dapat menggunakan fungsi lambda. Fungsi lambda biasanya diperankan sebagai parameter dari suatu fungsi lain. Fungsi yang berperan sebagai parameter sering disebut dengan fungsi callback.\n"
   ]
  },
  {
   "cell_type": "markdown",
   "id": "91d837d0",
   "metadata": {},
   "source": [
    "## 4.4 Parameter Default\n",
    "Suatu parameter fungsi dapat memiliki nilai default pada saat fungsi tersebut didefinisikan. Proses pengisisan nilai ke dalam parameter dilakukan menggunakan operator penugasan (=). Melalui cara ini, kita dapat memanggil fungsi tanpa menyertakan nilai untuk parameter bersangkutan. Parameter seperti ini sering disebut parameter default atau parameter opsional. Parameter default harus ditempatkan pada urutan paling akhir dari daftar parameter lain."
   ]
  },
  {
   "cell_type": "code",
   "execution_count": 10,
   "id": "e47e90cb",
   "metadata": {},
   "outputs": [
    {
     "name": "stdout",
     "output_type": "stream",
     "text": [
      "Python\n"
     ]
    }
   ],
   "source": [
    "def tulis(s, gantibaris=True):\n",
    "    if not gantibaris:\n",
    "        print(s,end='')\n",
    "    else:\n",
    "        print(s)\n",
    "tulis('Python')"
   ]
  },
  {
   "cell_type": "code",
   "execution_count": 11,
   "id": "a6cd17d5",
   "metadata": {},
   "outputs": [
    {
     "name": "stdout",
     "output_type": "stream",
     "text": [
      "Python dan Ruby\n"
     ]
    }
   ],
   "source": [
    "tulis('Python',False);tulis(' dan Ruby')"
   ]
  },
  {
   "cell_type": "code",
   "execution_count": 12,
   "id": "125032ef",
   "metadata": {},
   "outputs": [
    {
     "name": "stdout",
     "output_type": "stream",
     "text": [
      "Python\n",
      "Ruby\n"
     ]
    }
   ],
   "source": [
    "tulis('Python');tulis('Ruby')"
   ]
  },
  {
   "cell_type": "markdown",
   "id": "4fce17bf",
   "metadata": {},
   "source": [
    "Parameter ganti baris pada contoh kode di atas merupakan parameter default. Nilai default untuk parameter tersebut adalah True. Ini berarti bahwa jika fungsi tulis( ) dipanggil tanpa menyertakan parameter kedua, maka parameter ganti baris akan diisi dengan nilai True."
   ]
  },
  {
   "cell_type": "markdown",
   "id": "cec99205",
   "metadata": {},
   "source": [
    "# BAB 5 CONTROL FLOW\n",
    "## 5.1 Ekspresi Boolean\n",
    "Sebuah ekspresi Boolean adalah ekspresi yang bernilai true atau false. Ekspresi ini digunakan untuk membandingkan dua nilai atau variabel (operand). Contoh berikut merupakan ekspresi boolean menggunakan operator ‘==’ (sama dengan / equality) untuk membandingkan 2 buah nilai:"
   ]
  },
  {
   "cell_type": "code",
   "execution_count": 13,
   "id": "f0f67f91",
   "metadata": {},
   "outputs": [
    {
     "data": {
      "text/plain": [
       "True"
      ]
     },
     "execution_count": 13,
     "metadata": {},
     "output_type": "execute_result"
    }
   ],
   "source": [
    "5 == 5"
   ]
  },
  {
   "cell_type": "code",
   "execution_count": 14,
   "id": "c4b8a4b3",
   "metadata": {},
   "outputs": [
    {
     "data": {
      "text/plain": [
       "False"
      ]
     },
     "execution_count": 14,
     "metadata": {},
     "output_type": "execute_result"
    }
   ],
   "source": [
    "5 == 6"
   ]
  },
  {
   "cell_type": "markdown",
   "id": "2b2bd5e3",
   "metadata": {},
   "source": [
    "True dan False merupakan tipe data khusus, yaitu boolean, bukan tipe data string. Selain operator ‘==’, ada beberapa operator lain yang bisa digunakan untuk membuat ekspresi boolean, operator-operator ini disebut operator relasi. Operator relasi ditunjukkan pada Tabel 5.1. Operator Relasi.\n",
    "\n",
    "x == y : bernilai True jika x sama dengan y\n",
    "\n",
    "x != y : bernilai True jika x tidak sama dengan y\n",
    "\n",
    "x > y  : bernilai True jika x lebih dari y\n",
    "\n",
    "x < y  : bernilai True jika x kurang dari y\n",
    "\n",
    "x >= y : bernilai True jika x lebih dari atau sama dengan y\n",
    "\n",
    "x <= y : bernilai True jika x kurang dari atau sama dengan y"
   ]
  },
  {
   "cell_type": "markdown",
   "id": "d1692d62",
   "metadata": {},
   "source": [
    "## 5.2 Operators\n",
    "Operator logika merupakan jenis operator yang akan membandingkan logika hasil dari operator relasi. Terdapat macam operator yang termasuk dalam operator logika yaitu: and, or, dan not. Deskripsi dari masing-masing operator tersebut dijelaskan pada Tabel 5.2. Operator Logika.\n",
    "\n",
    "Contoh operator and adalah x > 0 and x < 10 akan bernilai True jika dan hanya jika x lebih besar dari 0 dan kurang dari 10. Ekspresi n%2 == 0 or n%3 == 0 akan bernilai True jika bilangan n habis dibagi 2 atau 3. Ekspresi not (x > y) bernilai True jika x > y bernilai False, yaitu jika x kurang dari atau sama dengan y.\n",
    "\n",
    "and : Melakukan pengecekan kondisi yang harus bernilai True untuk kedua operand kanan dan kiri secara bersamaan\n",
    "\n",
    "or : Melakukan pengecekan kondisi yang dapat bernilai True pada salah satu atau kedua operand kanan dan kiri\n",
    "\n",
    "not : Melakukan pengecekan kondisi NOT, atau membalikkan kondisi. Contoh NOT(A AND B)"
   ]
  },
  {
   "cell_type": "markdown",
   "id": "627fb547",
   "metadata": {},
   "source": [
    "## 5.3 Conditional execution\n",
    "Pada saat membuat sebuah program, kadangkala kita membutuhkan pemilihan pernyataan mana yang akan dijalankan oleh komputer. Kemampuan pemilihan perintah inilah yang disebut conditional statement. Contoh sederhana dari pernyataan conditional ini adalah sebagai berikut:"
   ]
  },
  {
   "cell_type": "code",
   "execution_count": null,
   "id": "4819b734",
   "metadata": {},
   "outputs": [],
   "source": [
    "if x > 0:\n",
    "    print('x is positive')"
   ]
  },
  {
   "cell_type": "markdown",
   "id": "d3e8d04d",
   "metadata": {},
   "source": [
    "Pada contoh di atas, pernyataan print ’x is positive’ akan dijalankan jika x > 0, sedangkan jika sebaliknya maka pernyataan tersebut tidak dijalankan. Ada beberapa conditional statement yang akan dibahan pada bab ini."
   ]
  },
  {
   "cell_type": "markdown",
   "id": "307c29e2",
   "metadata": {},
   "source": [
    "###  5.3.1 Conditional if\n",
    "Conditional if digunakan untuk memilih apakah sebuah pernyataan akan dijalankan atau tidak sesuai kondisi yang diberikan. Alur pemilihan if ditunjukkan pada Gambar 5.1.\n",
    "\n",
    "Sintaks pemilihan if adalah sebagai berikut:"
   ]
  },
  {
   "cell_type": "code",
   "execution_count": null,
   "id": "91473ccf",
   "metadata": {},
   "outputs": [],
   "source": [
    "if kondisi:\n",
    "    statement"
   ]
  },
  {
   "cell_type": "markdown",
   "id": "0341bafa",
   "metadata": {},
   "source": [
    "Kondisi pada sintaks tersebut dapat berisi ekspresi relasi dan atau ekspresi logika."
   ]
  },
  {
   "cell_type": "markdown",
   "id": "7931a63e",
   "metadata": {},
   "source": [
    "#### Percobaan Conditional if\n",
    "1. Buka python editor dan buat script baru dengan nama \n",
    "\"Percobaan1.py\".\n",
    "2. Tuliskan kode untuk mengambil masukan dari user."
   ]
  },
  {
   "cell_type": "code",
   "execution_count": null,
   "id": "8635faa3",
   "metadata": {},
   "outputs": [],
   "source": [
    "nilai = input(\"Masukkan nilai Anda: \")"
   ]
  },
  {
   "cell_type": "markdown",
   "id": "67863fac",
   "metadata": {},
   "source": [
    "3. Tuliskan kode conditional if untuk melakukan pengecekan nilai. Jangan lupa konversikan variabel nilai menjadi int."
   ]
  },
  {
   "cell_type": "code",
   "execution_count": null,
   "id": "1a531517",
   "metadata": {},
   "outputs": [],
   "source": [
    "if int(nilai) >= 70:\n",
    "    print(\"Anda lulus ujian! SELAMAT!\")"
   ]
  },
  {
   "cell_type": "markdown",
   "id": "57c277f0",
   "metadata": {},
   "source": [
    "4. Jalankan program tersebut dan perhatikan hasilnya."
   ]
  },
  {
   "cell_type": "markdown",
   "id": "b35c2fec",
   "metadata": {},
   "source": [
    "### 5.3.2 Conditional if-else\n",
    "Conditional if-else digunakan untuk memilih pernyataan mana yang akan dijalankan dari 2 pernyataan sesuai kondisi yang diberikan. Alur pemilihan if-else ditunjukkan pada Gambar 5.2.\n",
    "\n",
    "Sintaks pemilihan if-else adalah sebagai berikut:"
   ]
  },
  {
   "cell_type": "code",
   "execution_count": null,
   "id": "3f66c5c1",
   "metadata": {},
   "outputs": [],
   "source": [
    "if kondisi:\n",
    "    statement1\n",
    "else:\n",
    "    statement2"
   ]
  },
  {
   "cell_type": "markdown",
   "id": "e1bbbae9",
   "metadata": {},
   "source": [
    "Pernyataan pada blok if akan dijalankan jika kondisi bernilai True, tapi jika bernilai False maka pernyataan pada blok else akan dijalankan.\n",
    "\n",
    "Percobaan Conditional if-else\n",
    "1. Buka script Percobaan1.py yang sudah Anda buat.\n",
    "2. Tambahkan kode conditional if-else untuk melakukan pengecekan nilai apakah lulus atau tidak.\n"
   ]
  },
  {
   "cell_type": "code",
   "execution_count": null,
   "id": "a895205f",
   "metadata": {},
   "outputs": [],
   "source": [
    "if int(nilai) >= 70:\n",
    "    print(\"Anda lulus ujian! SELAMAT!\")\n",
    "else:\n",
    "    print(\"Anda belum lulus ujian!\")"
   ]
  },
  {
   "cell_type": "markdown",
   "id": "7061174c",
   "metadata": {},
   "source": [
    "3. Jalankan program tersebut dan perhatikan hasilnya."
   ]
  },
  {
   "cell_type": "markdown",
   "id": "5079d1cc",
   "metadata": {},
   "source": [
    "### 5.3.3 Conditional if-elif-else\n",
    "Conditional if-elif-else digunakan untuk memilih pernyataan mana yang akan dijalankan dengan beberapa kondisi pengecekan. Alur pemilihan if-elif-else ditunjukkan pada Gambar 5.3.\n",
    "\n",
    "Sintaks pemilihan if-elif-else adalah sebagai berikut:"
   ]
  },
  {
   "cell_type": "code",
   "execution_count": null,
   "id": "871608cd",
   "metadata": {},
   "outputs": [],
   "source": [
    "if kondisi1:\n",
    "    statement1\n",
    "elif kondisi2:\n",
    "    statement2\n",
    "else:\n",
    "    statementX"
   ]
  },
  {
   "cell_type": "markdown",
   "id": "eee30b64",
   "metadata": {},
   "source": [
    "Pernyataan pada blok if akan dijalankan jika kondisi1 bernilai True, tapi jika bernilai False maka akan dicek kondisi2 pada elif dan seterusnya sampai dengan else.\n",
    "\n",
    "Percobaan Conditional if-elif-else\n",
    "1. Buka script Percobaan1.py yang sudah Anda buat pada Percobaan 1 dan 2.\n",
    "2. Tambahkan kode conditional if-elif-else untuk melakukan pengecekan nilai apakah valid dan lulus atau tidak."
   ]
  },
  {
   "cell_type": "code",
   "execution_count": null,
   "id": "033c97a6",
   "metadata": {},
   "outputs": [],
   "source": [
    "if int(nilai) < 0 or int(nilai) > 100:\n",
    "    print(\"Nilai Anda Tidak valid\")\n",
    "elif int(nilai) >= 70:\n",
    "    print(\"Anda lulus ujian! SELAMAT!\")\n",
    "else:\n",
    "    print(\"Anda belum lulus ujian!\")"
   ]
  },
  {
   "cell_type": "markdown",
   "id": "7aa88c79",
   "metadata": {},
   "source": [
    "3. Jalankan program tersebut dan perhatikan hasilnya."
   ]
  }
 ],
 "metadata": {
  "kernelspec": {
   "display_name": "Python 3 (ipykernel)",
   "language": "python",
   "name": "python3"
  },
  "language_info": {
   "codemirror_mode": {
    "name": "ipython",
    "version": 3
   },
   "file_extension": ".py",
   "mimetype": "text/x-python",
   "name": "python",
   "nbconvert_exporter": "python",
   "pygments_lexer": "ipython3",
   "version": "3.9.7"
  }
 },
 "nbformat": 4,
 "nbformat_minor": 5
}
