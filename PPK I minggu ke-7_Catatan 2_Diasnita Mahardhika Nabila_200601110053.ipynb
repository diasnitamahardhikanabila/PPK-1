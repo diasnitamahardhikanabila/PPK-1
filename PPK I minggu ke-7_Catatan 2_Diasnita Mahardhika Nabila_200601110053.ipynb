{
 "cells": [
  {
   "cell_type": "markdown",
   "id": "03dd0e03",
   "metadata": {},
   "source": [
    "# File Handling"
   ]
  },
  {
   "cell_type": "code",
   "execution_count": 1,
   "id": "a82a7224",
   "metadata": {},
   "outputs": [
    {
     "name": "stdout",
     "output_type": "stream",
     "text": [
      "Hallo, saya adalah Mahasiswi UIN MAULANA MALIK IBRAHIM MALANG.\n",
      "Nama saya Diasnita Mahardhika Nabila, NIM: 20060111053.\n",
      "Hari Kamis Pagi saya mengikuti kelas PPK I.\n"
     ]
    }
   ],
   "source": [
    "f = open(\"Contoh.txt\", \"r\")\n",
    "print(f.read())"
   ]
  },
  {
   "cell_type": "code",
   "execution_count": 2,
   "id": "043eb57b",
   "metadata": {},
   "outputs": [
    {
     "name": "stdout",
     "output_type": "stream",
     "text": [
      "Hallo, saya adalah M\n"
     ]
    }
   ],
   "source": [
    "f = open(\"Contoh.txt\", \"r\")\n",
    "print(f.read(20))"
   ]
  },
  {
   "cell_type": "code",
   "execution_count": 3,
   "id": "99504742",
   "metadata": {},
   "outputs": [
    {
     "name": "stdout",
     "output_type": "stream",
     "text": [
      "Hallo, saya adalah Mahasiswi UIN MAULANA MALIK IBRAHIM MALANG.\n",
      "Nama saya Diasnita Mahardhika Nabila, NIM: 20060111053.\n",
      "Hari Kamis Pagi saya mengikuti kelas PPK I.Now the file has more content!\n"
     ]
    }
   ],
   "source": [
    "f = open(\"Contoh.txt\", \"a\")\n",
    "f.write(\"Now the file has more content!\")\n",
    "f.close()\n",
    "\n",
    "#Open and read the file after the appending:\n",
    "f = open(\"Contoh.txt\", \"r\")\n",
    "print(f.read())"
   ]
  },
  {
   "cell_type": "markdown",
   "id": "ea6a1d6a",
   "metadata": {},
   "source": [
    "# Chapter 5\n",
    "## 5.1 Pendahuluan\n",
    "Topik utama dari NumPy adalah array multidimensi yang diindeks oleh tuple atau pasangan bilangan bulat positif. Dalam NumPy dimensi disebut sebagai axis, dan banyaknya axis disebut rank. Sebagai contoh, koordinat sebuah titik diruang 3D dinyatakan sebagai [1,2,1] yang merupakan sebuah array dengan rank 1 karena terdiri dari satu axis. Sedangkan panjang axis tersebut adalah 3.\n",
    "\n",
    "Pada contoh berikut, array-nya mempunyai rank 2. Axis pertama panjangnya 2, dan axis kedua panjangnya 3."
   ]
  },
  {
   "cell_type": "code",
   "execution_count": 1,
   "id": "95010c95",
   "metadata": {},
   "outputs": [
    {
     "data": {
      "text/plain": [
       "[[1.0, 0.0, 0.0], [0.0, 1.0, 2.0]]"
      ]
     },
     "execution_count": 1,
     "metadata": {},
     "output_type": "execute_result"
    }
   ],
   "source": [
    "[[ 1., 0., 0.],\n",
    " [ 0., 1., 2.]]"
   ]
  },
  {
   "cell_type": "markdown",
   "id": "f11ba74c",
   "metadata": {},
   "source": [
    "array NumPy disebut sebagai ndarray , atau dikenal juga dengan sebutan array. Catat bahwa numpy.array tidak sama dengan array Standard Python array.array, yang hanya bisa digunakan untuk array satu dimensi dan dengan fitur yang lebih sedikit. Atribut yang paling penting dari ndarray adalah:\n",
    "\n",
    "ndarray.ndim banyaknya axis atau dimensi dari array. Di Python, banyaknya dimensi disebut sebagai rank.\n",
    "\n",
    "ndarray.shape dimensi dari array. Ini adalah pasangan bilangan bulat yang menunjukkan ukuran array di setiap dimensi. Untuk matriks dengan n baris dan m kolom, bentuknya adalah (n, m). Panjang dari pasangan shape adalah rank, atau jumlah dimensi, ndim.\n",
    "\n",
    "ndarray.size jumlah elemen dari array. Ini sama dengan perkalian elemen dari shape.\n",
    "\n",
    "ndarray.dtype sebuah objek yang menggambarkan jenis elemen dalam array. Seseorang dapat membuat atau menentukan jenis dtype menggunakan jenis Python standar. Selain itu NumPy menyediakan jenisnya sendiri. numpy.int32, numpy.int16, dan numpy.float64 adalah beberapa contohnya.\n",
    "\n",
    "ndarray.itemsize ukurandalambytedarisetiapelemenarray. Sebagai contoh, sebuah array dari elemen tipe float64 memiliki itemsize 8 (= 64/8), sedangkan satu dari tipe complex32 memiliki itemsize 4 (= 32/8). Ini sama dengan ndarray.dtype.itemsize.\n",
    "\n",
    "ndarray.data buffer yang mengandung elemen sebenarnya dari array. Biasanya, kita tidak perlu menggunakan atribut ini karena kita akan mengakses elemen dalam array menggunakan fasilitas pengindeksan.\n",
    "\n",
    "Contoh:"
   ]
  },
  {
   "cell_type": "code",
   "execution_count": 2,
   "id": "07cb8de5",
   "metadata": {},
   "outputs": [
    {
     "data": {
      "text/plain": [
       "array([[ 0,  1,  2,  3,  4],\n",
       "       [ 5,  6,  7,  8,  9],\n",
       "       [10, 11, 12, 13, 14]])"
      ]
     },
     "execution_count": 2,
     "metadata": {},
     "output_type": "execute_result"
    }
   ],
   "source": [
    "import numpy as np\n",
    "a = np.arange(15) .reshape(3, 5)\n",
    "a"
   ]
  },
  {
   "cell_type": "code",
   "execution_count": 3,
   "id": "9f547056",
   "metadata": {},
   "outputs": [
    {
     "data": {
      "text/plain": [
       "(3, 5)"
      ]
     },
     "execution_count": 3,
     "metadata": {},
     "output_type": "execute_result"
    }
   ],
   "source": [
    "a.shape"
   ]
  },
  {
   "cell_type": "code",
   "execution_count": 4,
   "id": "e083517d",
   "metadata": {},
   "outputs": [
    {
     "data": {
      "text/plain": [
       "2"
      ]
     },
     "execution_count": 4,
     "metadata": {},
     "output_type": "execute_result"
    }
   ],
   "source": [
    "a.ndim"
   ]
  },
  {
   "cell_type": "code",
   "execution_count": 5,
   "id": "34327eb5",
   "metadata": {},
   "outputs": [
    {
     "data": {
      "text/plain": [
       "'int32'"
      ]
     },
     "execution_count": 5,
     "metadata": {},
     "output_type": "execute_result"
    }
   ],
   "source": [
    "a.dtype.name"
   ]
  },
  {
   "cell_type": "code",
   "execution_count": 6,
   "id": "cf178f5a",
   "metadata": {},
   "outputs": [
    {
     "data": {
      "text/plain": [
       "4"
      ]
     },
     "execution_count": 6,
     "metadata": {},
     "output_type": "execute_result"
    }
   ],
   "source": [
    "a.itemsize"
   ]
  },
  {
   "cell_type": "code",
   "execution_count": 7,
   "id": "c19604b8",
   "metadata": {},
   "outputs": [
    {
     "data": {
      "text/plain": [
       "15"
      ]
     },
     "execution_count": 7,
     "metadata": {},
     "output_type": "execute_result"
    }
   ],
   "source": [
    "a.size"
   ]
  },
  {
   "cell_type": "code",
   "execution_count": 8,
   "id": "bbc644bf",
   "metadata": {},
   "outputs": [
    {
     "data": {
      "text/plain": [
       "numpy.ndarray"
      ]
     },
     "execution_count": 8,
     "metadata": {},
     "output_type": "execute_result"
    }
   ],
   "source": [
    "type(a)"
   ]
  },
  {
   "cell_type": "code",
   "execution_count": 9,
   "id": "7d12685d",
   "metadata": {},
   "outputs": [
    {
     "data": {
      "text/plain": [
       "array([6, 7, 8])"
      ]
     },
     "execution_count": 9,
     "metadata": {},
     "output_type": "execute_result"
    }
   ],
   "source": [
    "b = np.array([6, 7, 8])\n",
    "b"
   ]
  },
  {
   "cell_type": "code",
   "execution_count": 10,
   "id": "4bc29225",
   "metadata": {},
   "outputs": [
    {
     "data": {
      "text/plain": [
       "numpy.ndarray"
      ]
     },
     "execution_count": 10,
     "metadata": {},
     "output_type": "execute_result"
    }
   ],
   "source": [
    "type(b)"
   ]
  },
  {
   "cell_type": "markdown",
   "id": "25ef7e53",
   "metadata": {},
   "source": [
    "## 5.2 Membuat Array\n",
    "Ada beberapa cara untuk membuat array. Misalnya, Anda dapat membuat array dari list Python biasa atau pasangan menggunakan fungsi array. Tipe array yang dihasilkan disimpulkan dari tipe elemen dalam array."
   ]
  },
  {
   "cell_type": "code",
   "execution_count": 11,
   "id": "ba077a14",
   "metadata": {},
   "outputs": [
    {
     "data": {
      "text/plain": [
       "array([2, 3, 4])"
      ]
     },
     "execution_count": 11,
     "metadata": {},
     "output_type": "execute_result"
    }
   ],
   "source": [
    "import numpy as np\n",
    "a = np.array([2,3,4])\n",
    "a"
   ]
  },
  {
   "cell_type": "code",
   "execution_count": 12,
   "id": "cd525848",
   "metadata": {},
   "outputs": [
    {
     "data": {
      "text/plain": [
       "dtype('int32')"
      ]
     },
     "execution_count": 12,
     "metadata": {},
     "output_type": "execute_result"
    }
   ],
   "source": [
    "a.dtype"
   ]
  },
  {
   "cell_type": "code",
   "execution_count": null,
   "id": "823476e4",
   "metadata": {},
   "outputs": [],
   "source": [
    "b = np.array([1.2, 3.5, 5.1])\n",
    "b.dtype dtype(’float32’)"
   ]
  },
  {
   "cell_type": "markdown",
   "id": "019095fb",
   "metadata": {},
   "source": [
    "Kesalahan yang sering terjadi dalam pembuatan array diantaranya adalah:"
   ]
  },
  {
   "cell_type": "code",
   "execution_count": null,
   "id": "4a892049",
   "metadata": {},
   "outputs": [],
   "source": [
    "a = np.array(1,2,3,4) # WRONG\n",
    "a = np.array([1,2,3,4]) # RIGHT"
   ]
  },
  {
   "cell_type": "markdown",
   "id": "0c668e55",
   "metadata": {},
   "source": [
    "array mengubah barisan dari sebuah barisan menjadi array dua dimensi, barisan dari barisan sebuah barisan menjadi array tiga dimensi, dan seterusnya."
   ]
  },
  {
   "cell_type": "code",
   "execution_count": 16,
   "id": "b3f7a5e0",
   "metadata": {},
   "outputs": [
    {
     "data": {
      "text/plain": [
       "array([[1.5, 2. , 3. ],\n",
       "       [4. , 5. , 6. ]])"
      ]
     },
     "execution_count": 16,
     "metadata": {},
     "output_type": "execute_result"
    }
   ],
   "source": [
    "b = np.array([(1.5,2,3), (4,5,6)])\n",
    "b"
   ]
  },
  {
   "cell_type": "markdown",
   "id": "6ba64afd",
   "metadata": {},
   "source": [
    "Jenis array juga dapat secara eksplisit ditentukan pada saat pembuatan:"
   ]
  },
  {
   "cell_type": "code",
   "execution_count": 17,
   "id": "d8628dcd",
   "metadata": {},
   "outputs": [
    {
     "data": {
      "text/plain": [
       "array([[1.+0.j, 2.+0.j],\n",
       "       [3.+0.j, 4.+0.j]])"
      ]
     },
     "execution_count": 17,
     "metadata": {},
     "output_type": "execute_result"
    }
   ],
   "source": [
    "c = np.array( [ [1,2], [3,4] ], \n",
    "dtype=complex )\n",
    "c"
   ]
  },
  {
   "cell_type": "markdown",
   "id": "71c45f97",
   "metadata": {},
   "source": [
    "Seringkali, elemen dari sebuah array pada awalnya tidak diketahui, namun ukurannya diketahui. Oleh karena itu, NumPy menawarkan beberapa fungsi untuk membuat array yang memuat nilai awal. Hal tersebut dapat meminimalkan pertumbuhan memori yang diperlukan array , sebagai operasi yang dianggap mahal.\n",
    "\n",
    "Fungsi zeros menciptakan sebuah array yang berisi angka nol, fungsi ones yang menciptakan array yang berisi angka satu, dan fungsi empty men ciptakan array yang isinya acak dan bergantung pada keadaan memori. Secara default, dtype dari array yang dibuat adalah float64."
   ]
  },
  {
   "cell_type": "code",
   "execution_count": 18,
   "id": "e856b10a",
   "metadata": {},
   "outputs": [
    {
     "data": {
      "text/plain": [
       "array([[0., 0., 0., 0.],\n",
       "       [0., 0., 0., 0.],\n",
       "       [0., 0., 0., 0.]])"
      ]
     },
     "execution_count": 18,
     "metadata": {},
     "output_type": "execute_result"
    }
   ],
   "source": [
    "np.zeros( (3,4) )"
   ]
  },
  {
   "cell_type": "code",
   "execution_count": 19,
   "id": "84774e5e",
   "metadata": {},
   "outputs": [
    {
     "data": {
      "text/plain": [
       "array([[[1, 1, 1, 1],\n",
       "        [1, 1, 1, 1],\n",
       "        [1, 1, 1, 1]],\n",
       "\n",
       "       [[1, 1, 1, 1],\n",
       "        [1, 1, 1, 1],\n",
       "        [1, 1, 1, 1]]], dtype=int16)"
      ]
     },
     "execution_count": 19,
     "metadata": {},
     "output_type": "execute_result"
    }
   ],
   "source": [
    "np.ones( (2,3,4), dtype=np.int16 ) # dtype can also be specified"
   ]
  },
  {
   "cell_type": "code",
   "execution_count": 20,
   "id": "a25569e6",
   "metadata": {},
   "outputs": [
    {
     "data": {
      "text/plain": [
       "array([[1.5, 2. , 3. ],\n",
       "       [4. , 5. , 6. ]])"
      ]
     },
     "execution_count": 20,
     "metadata": {},
     "output_type": "execute_result"
    }
   ],
   "source": [
    "np.empty( (2,3) ) # uninitialized , output may vary"
   ]
  },
  {
   "cell_type": "markdown",
   "id": "b9eb64a7",
   "metadata": {},
   "source": [
    "Untuk membuat barisan angka, NumPy menyediakan fungsi yang mirip dengan range yang outputnya berupa array dan bukan berupa \n",
    "list."
   ]
  },
  {
   "cell_type": "code",
   "execution_count": 21,
   "id": "5214f9ab",
   "metadata": {},
   "outputs": [
    {
     "data": {
      "text/plain": [
       "array([10, 15, 20, 25])"
      ]
     },
     "execution_count": 21,
     "metadata": {},
     "output_type": "execute_result"
    }
   ],
   "source": [
    "np.arange(10,30,5 )"
   ]
  },
  {
   "cell_type": "code",
   "execution_count": 22,
   "id": "37f61836",
   "metadata": {},
   "outputs": [
    {
     "data": {
      "text/plain": [
       "array([0. , 0.3, 0.6, 0.9, 1.2, 1.5, 1.8])"
      ]
     },
     "execution_count": 22,
     "metadata": {},
     "output_type": "execute_result"
    }
   ],
   "source": [
    "np.arange(0,2,0.3 ) # it accepts float arguments"
   ]
  },
  {
   "cell_type": "markdown",
   "id": "b3c04a82",
   "metadata": {},
   "source": [
    "Jika arange digunakan dengan argumen floating point, biasanya sulit memprediksi jumlah elemen yang diperoleh, karena presisi floating point yang terbatas. Untuk itu, lebih baik menggunakan fungsi linspace yang dapat menerima masukan berapa jumlah elemen yang kita inginkan:"
   ]
  },
  {
   "cell_type": "code",
   "execution_count": 23,
   "id": "2607b3af",
   "metadata": {},
   "outputs": [
    {
     "data": {
      "text/plain": [
       "array([0.  , 0.25, 0.5 , 0.75, 1.  , 1.25, 1.5 , 1.75, 2.  ])"
      ]
     },
     "execution_count": 23,
     "metadata": {},
     "output_type": "execute_result"
    }
   ],
   "source": [
    "from numpy import pi\n",
    "np.linspace(0,2,9) #9 numbers from 0 to 2"
   ]
  },
  {
   "cell_type": "code",
   "execution_count": 24,
   "id": "48fe8e76",
   "metadata": {},
   "outputs": [],
   "source": [
    "x = np.linspace(0,2*pi,100 ) #useful to evaluate function at lots of points\n",
    "f = np.sin(x)"
   ]
  },
  {
   "cell_type": "markdown",
   "id": "ab7b0253",
   "metadata": {},
   "source": [
    "## 5.3 Menampilkan Array\n",
    "Saat kita menampilkan array , NumPy menampilkannya dengan cara yang mirip dengan daftar bersarang, namun dengan tata letak berikut:\n",
    "\n",
    "• axis terakhir dicetak dari kiri ke kanan,\n",
    "\n",
    "• yang kedua sampai yang terakhir dicetak dari atas ke bawah,\n",
    "\n",
    "• Sisanya juga dicetak dari atas ke bawah, dengan masing-masing potongan dipisahkan oleh sebuah baris kosong.\n",
    "\n",
    "array satu dimensi dicetak sebagai baris, array dua dimensi sebagai matriks dan tridimensionals sebagai daftar matriks."
   ]
  },
  {
   "cell_type": "code",
   "execution_count": 25,
   "id": "19394ba4",
   "metadata": {},
   "outputs": [
    {
     "name": "stdout",
     "output_type": "stream",
     "text": [
      "[0 1 2 3 4 5]\n"
     ]
    }
   ],
   "source": [
    "a = np.arange(6) #1d array\n",
    "print(a)"
   ]
  },
  {
   "cell_type": "code",
   "execution_count": 26,
   "id": "4509ac87",
   "metadata": {},
   "outputs": [
    {
     "name": "stdout",
     "output_type": "stream",
     "text": [
      "[[ 0  1  2]\n",
      " [ 3  4  5]\n",
      " [ 6  7  8]\n",
      " [ 9 10 11]]\n"
     ]
    }
   ],
   "source": [
    "b = np.arange(12).reshape(4,3) # 2d array\n",
    "print(b)"
   ]
  },
  {
   "cell_type": "code",
   "execution_count": 27,
   "id": "9ce80407",
   "metadata": {},
   "outputs": [
    {
     "name": "stdout",
     "output_type": "stream",
     "text": [
      "[[[ 0  1  2  3]\n",
      "  [ 4  5  6  7]\n",
      "  [ 8  9 10 11]]\n",
      "\n",
      " [[12 13 14 15]\n",
      "  [16 17 18 19]\n",
      "  [20 21 22 23]]]\n"
     ]
    }
   ],
   "source": [
    "c = np.arange(24).reshape(2,3,4) # 3d array\n",
    "print(c)"
   ]
  },
  {
   "cell_type": "markdown",
   "id": "2524a861",
   "metadata": {},
   "source": [
    "Jika array terlalu besar untuk ditampilkan, NumPy secara otomatis memotong bagian tengah array dan hanya mencetak ujung-ujungnya:"
   ]
  },
  {
   "cell_type": "code",
   "execution_count": 28,
   "id": "21d9ca69",
   "metadata": {},
   "outputs": [
    {
     "name": "stdout",
     "output_type": "stream",
     "text": [
      "[   0    1    2 ... 9997 9998 9999]\n"
     ]
    }
   ],
   "source": [
    "print(np.arange(10000))"
   ]
  },
  {
   "cell_type": "code",
   "execution_count": 29,
   "id": "00455ffa",
   "metadata": {},
   "outputs": [
    {
     "name": "stdout",
     "output_type": "stream",
     "text": [
      "[[   0    1    2 ...   97   98   99]\n",
      " [ 100  101  102 ...  197  198  199]\n",
      " [ 200  201  202 ...  297  298  299]\n",
      " ...\n",
      " [9700 9701 9702 ... 9797 9798 9799]\n",
      " [9800 9801 9802 ... 9897 9898 9899]\n",
      " [9900 9901 9902 ... 9997 9998 9999]]\n"
     ]
    }
   ],
   "source": [
    "print(np.arange(10000).reshape(100,100))"
   ]
  },
  {
   "cell_type": "markdown",
   "id": "c0d03749",
   "metadata": {},
   "source": [
    "Untuk memaksa NumPy mencetak seluruh bagian array , kita dapat mengubah opsi print menggunakan set_printoptions."
   ]
  },
  {
   "cell_type": "code",
   "execution_count": null,
   "id": "4b708900",
   "metadata": {},
   "outputs": [],
   "source": [
    "np.set_printoptions(threshold='nan')"
   ]
  }
 ],
 "metadata": {
  "kernelspec": {
   "display_name": "Python 3 (ipykernel)",
   "language": "python",
   "name": "python3"
  },
  "language_info": {
   "codemirror_mode": {
    "name": "ipython",
    "version": 3
   },
   "file_extension": ".py",
   "mimetype": "text/x-python",
   "name": "python",
   "nbconvert_exporter": "python",
   "pygments_lexer": "ipython3",
   "version": "3.9.7"
  }
 },
 "nbformat": 4,
 "nbformat_minor": 5
}
