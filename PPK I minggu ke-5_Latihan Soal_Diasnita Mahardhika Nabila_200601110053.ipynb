{
 "cells": [
  {
   "cell_type": "markdown",
   "id": "3aa1cf29",
   "metadata": {},
   "source": [
    "## Latihan Bab 5"
   ]
  },
  {
   "cell_type": "markdown",
   "id": "a8762cb9",
   "metadata": {},
   "source": [
    "### Nomer 1"
   ]
  },
  {
   "cell_type": "code",
   "execution_count": 1,
   "id": "0473fcd6",
   "metadata": {},
   "outputs": [
    {
     "name": "stdout",
     "output_type": "stream",
     "text": [
      "Bilangan a: 6\n",
      "Bilangan b: 9\n",
      "Mencetak Bilangan Terbesar\n",
      "9\n"
     ]
    }
   ],
   "source": [
    "a = int(input(\"Bilangan a: \"))\n",
    "b = int(input(\"Bilangan b: \"))\n",
    "print(\"Mencetak Bilangan Terbesar\")\n",
    "if a > b:\n",
    "    print(a)\n",
    "else:\n",
    "    print(b)"
   ]
  },
  {
   "cell_type": "markdown",
   "id": "7804f430",
   "metadata": {},
   "source": [
    "### Nomer 2"
   ]
  },
  {
   "cell_type": "code",
   "execution_count": 2,
   "id": "7a784c44",
   "metadata": {},
   "outputs": [
    {
     "name": "stdout",
     "output_type": "stream",
     "text": [
      "Menghitung Nilai Akhir\n",
      "Nilai UAS: 80\n",
      "Nilai UTS: 85\n",
      "Nilai Kuis: 75\n",
      "Nilai Tugas: 80\n",
      "SELAMAT ANDA LULUS!\n"
     ]
    }
   ],
   "source": [
    "print(\"Menghitung Nilai Akhir\")\n",
    "A = int(input(\"Nilai UAS: \"))\n",
    "B = int(input(\"Nilai UTS: \"))\n",
    "C = int(input(\"Nilai Kuis: \"))\n",
    "D = int(input(\"Nilai Tugas: \"))\n",
    "Nilaiakhir = (A*40+B*30+C*10+D*20)/100\n",
    "if Nilaiakhir == \"65\" or Nilaiakhir > 65:\n",
    "    print(\"SELAMAT ANDA LULUS!\")\n",
    "else:\n",
    "    print(\"ANDA REMIDI\")"
   ]
  },
  {
   "cell_type": "markdown",
   "id": "d4b995fb",
   "metadata": {},
   "source": [
    "### Nomer 3"
   ]
  },
  {
   "cell_type": "code",
   "execution_count": 3,
   "id": "f9c6c68c",
   "metadata": {},
   "outputs": [
    {
     "name": "stdout",
     "output_type": "stream",
     "text": [
      "Pilih Operasi.\n",
      "1. Penjumlahan\n",
      "2. Perkurangan\n",
      "3. Perkalian\n",
      "4. Pembagian\n",
      "Masukkan Pilihan(1/2/3/4)1\n",
      "Masukkan Bilangan Pertama: 3\n",
      "Masukkan Bilangan Kedua: 5\n",
      "3 + 5 = 8\n"
     ]
    }
   ],
   "source": [
    "def add(a,b):\n",
    "    return a + b\n",
    "def subtract(a,b):\n",
    "    return a - b\n",
    "def multiply(a,b):\n",
    "    return a * b\n",
    "def divide(a,b):\n",
    "    return a / b\n",
    "\n",
    "#Menu Operasi\n",
    "print(\"Pilih Operasi.\")\n",
    "print(\"1. Penjumlahan\")\n",
    "print(\"2. Perkurangan\")\n",
    "print(\"3. Perkalian\")\n",
    "print(\"4. Pembagian\")\n",
    "\n",
    "Operator = input(\"Masukkan Pilihan(1/2/3/4)\")\n",
    "a = int(input(\"Masukkan Bilangan Pertama: \"))\n",
    "b = int(input(\"Masukkan Bilangan Kedua: \"))\n",
    "if Operator == '1':\n",
    "    print(a,\"+\",b,\"=\", add(a,b))\n",
    "elif Operator == '2':\n",
    "    print(a,\"-\",b,\"=\", subtract(a,b))\n",
    "elif Operator == '3':\n",
    "    print(a,\"*\",b,\"=\", multiply(a,b))\n",
    "elif Operator == '4':\n",
    "    print(a,\"/\",b,\"=\", divide(a,b))\n",
    "else:\n",
    "    print(\"Input Salah\")"
   ]
  }
 ],
 "metadata": {
  "kernelspec": {
   "display_name": "Python 3 (ipykernel)",
   "language": "python",
   "name": "python3"
  },
  "language_info": {
   "codemirror_mode": {
    "name": "ipython",
    "version": 3
   },
   "file_extension": ".py",
   "mimetype": "text/x-python",
   "name": "python",
   "nbconvert_exporter": "python",
   "pygments_lexer": "ipython3",
   "version": "3.9.7"
  }
 },
 "nbformat": 4,
 "nbformat_minor": 5
}
