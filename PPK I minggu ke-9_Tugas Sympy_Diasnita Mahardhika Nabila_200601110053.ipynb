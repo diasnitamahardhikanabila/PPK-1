{
 "cells": [
  {
   "cell_type": "markdown",
   "id": "a82f8adc",
   "metadata": {},
   "source": [
    "# Diasnita Mahardhika Nabila (200601110053)\n",
    "## Tugas Sympy\n",
    "Silakan buat 5 soal matematika beserta penyelesaiannya menggunakan bantuan sympy!"
   ]
  },
  {
   "cell_type": "markdown",
   "id": "9adde0e9",
   "metadata": {},
   "source": [
    "### Soal 1\n",
    "Tentukan nilai limit dari (x^2 - 4)/(x + 2) dengan x mendekati 5!"
   ]
  },
  {
   "cell_type": "code",
   "execution_count": 1,
   "id": "67940c26",
   "metadata": {},
   "outputs": [
    {
     "name": "stdout",
     "output_type": "stream",
     "text": [
      "3\n"
     ]
    }
   ],
   "source": [
    "from sympy import *\n",
    "x = symbols('x')\n",
    "f = limit((x**2 - 4)/(x + 2), x, 5)\n",
    "print(f)"
   ]
  },
  {
   "cell_type": "markdown",
   "id": "5be017c6",
   "metadata": {},
   "source": [
    "### Soal 2\n",
    "Tentukan turunan dari cos(x)!"
   ]
  },
  {
   "cell_type": "code",
   "execution_count": 4,
   "id": "e8274c83",
   "metadata": {},
   "outputs": [
    {
     "data": {
      "text/latex": [
       "$\\displaystyle - \\sin{\\left(x \\right)}$"
      ],
      "text/plain": [
       "-sin(x)"
      ]
     },
     "execution_count": 4,
     "metadata": {},
     "output_type": "execute_result"
    }
   ],
   "source": [
    "from sympy import *\n",
    "f = cos(x)\n",
    "df = diff(f,x)\n",
    "df"
   ]
  },
  {
   "cell_type": "markdown",
   "id": "1a0423d9",
   "metadata": {},
   "source": [
    "### Soal 3\n",
    "Tentukan nilai limit dari sin(x)/x dengan x mendekati 0!"
   ]
  },
  {
   "cell_type": "code",
   "execution_count": 6,
   "id": "0573c5a8",
   "metadata": {},
   "outputs": [
    {
     "name": "stdout",
     "output_type": "stream",
     "text": [
      "1\n"
     ]
    }
   ],
   "source": [
    "from sympy import *\n",
    "x = symbols('x')\n",
    "m = limit(sin(x)/x, x,0)\n",
    "print(m)"
   ]
  },
  {
   "cell_type": "markdown",
   "id": "32880ca9",
   "metadata": {},
   "source": [
    "### Soal 4\n",
    "Pada sebuah pertemuan khusus beranggotakan 8(delapan) fraksi sebuah Negara, akan dipasang lambang dari setiap fraksi. Berapa banyak cara untuk menyusun tiap lambang tersebut?"
   ]
  },
  {
   "cell_type": "code",
   "execution_count": 7,
   "id": "403737c0",
   "metadata": {},
   "outputs": [
    {
     "data": {
      "text/latex": [
       "$\\displaystyle n!$"
      ],
      "text/plain": [
       "factorial(n)"
      ]
     },
     "execution_count": 7,
     "metadata": {},
     "output_type": "execute_result"
    }
   ],
   "source": [
    "from sympy import *\n",
    "n = symbols('n')\n",
    "f = factorial(n)\n",
    "f"
   ]
  },
  {
   "cell_type": "code",
   "execution_count": 14,
   "id": "c6d73c52",
   "metadata": {},
   "outputs": [
    {
     "data": {
      "text/latex": [
       "$\\displaystyle 40320$"
      ],
      "text/plain": [
       "40320"
      ]
     },
     "execution_count": 14,
     "metadata": {},
     "output_type": "execute_result"
    }
   ],
   "source": [
    "f.subs(n,8)"
   ]
  },
  {
   "cell_type": "markdown",
   "id": "c03d9af7",
   "metadata": {},
   "source": [
    "### Soal 5\n",
    "Angkatan laut milik Negara X mempunyai 6(enam) orang admiral. Jika suatu hari dari enam orang tersebut akan dipilih satu orang untuk menjadi kepala admiral dan satu lagi untuk menjadi wakil kepala admiral. Berapa banyak cara untuk menentukannya?"
   ]
  },
  {
   "cell_type": "code",
   "execution_count": 50,
   "id": "a582aa7c",
   "metadata": {},
   "outputs": [
    {
     "data": {
      "text/latex": [
       "$\\displaystyle 720$"
      ],
      "text/plain": [
       "720"
      ]
     },
     "execution_count": 50,
     "metadata": {},
     "output_type": "execute_result"
    }
   ],
   "source": [
    "from sympy import *\n",
    "n,x = symbols('n x')\n",
    "n = 6\n",
    "x = 2\n",
    "a = factorial(n)\n",
    "a"
   ]
  },
  {
   "cell_type": "code",
   "execution_count": 51,
   "id": "39a0f7f7",
   "metadata": {},
   "outputs": [
    {
     "data": {
      "text/latex": [
       "$\\displaystyle 24$"
      ],
      "text/plain": [
       "24"
      ]
     },
     "execution_count": 51,
     "metadata": {},
     "output_type": "execute_result"
    }
   ],
   "source": [
    "b = factorial(n-x)\n",
    "b"
   ]
  },
  {
   "cell_type": "code",
   "execution_count": 54,
   "id": "7a1fd7c4",
   "metadata": {},
   "outputs": [
    {
     "data": {
      "text/latex": [
       "$\\displaystyle 30$"
      ],
      "text/plain": [
       "30"
      ]
     },
     "execution_count": 54,
     "metadata": {},
     "output_type": "execute_result"
    }
   ],
   "source": [
    "P = a/b\n",
    "P"
   ]
  }
 ],
 "metadata": {
  "kernelspec": {
   "display_name": "Python 3 (ipykernel)",
   "language": "python",
   "name": "python3"
  },
  "language_info": {
   "codemirror_mode": {
    "name": "ipython",
    "version": 3
   },
   "file_extension": ".py",
   "mimetype": "text/x-python",
   "name": "python",
   "nbconvert_exporter": "python",
   "pygments_lexer": "ipython3",
   "version": "3.9.7"
  }
 },
 "nbformat": 4,
 "nbformat_minor": 5
}
