{
 "cells": [
  {
   "cell_type": "markdown",
   "id": "45db766c",
   "metadata": {},
   "source": [
    "# Pandas"
   ]
  },
  {
   "cell_type": "markdown",
   "id": "d7cedd39",
   "metadata": {},
   "source": [
    "Pandas adalah sebuah library berlisensi BSD dan open source yang menyediakan struktur data dan analisis data yang mudah digunakan dan berkinerja tinggi untuk bahasa pemrograman Python. Pandas merupakan salah satu package yang sangat membantu kita dalam pengolahan data dengan bahasa python. Hal ini karena menyediakan fitur dataframe. Dengan dataframe, kita bisa menjadikan dile terbaca menjadi sebuah tabel. File yang didukung seperti .txt, .csv, .xls, .xlsx, .tsv dan lainnya. Pandas sering digunakan untuk melakukan proses analisis data. Library analisis data yang memiliki struktur data yang diperlukan untuk mengkonversi data mentah ke dalam bentuk/format tabel sehingga memudahkan untuk analisis."
   ]
  },
  {
   "cell_type": "markdown",
   "id": "01755313",
   "metadata": {},
   "source": [
    "## DataFrame\n",
    "- Struktur data dasar pandas dinamakan DataFrame.\n",
    "- Koleksi kolom berurutan dengan bentuk sebuah tabel yang tampak seperti database dimana sebuah baris tunggal mewakili sebuah data tunggal dan kolom mewakili atribut tertentu.\n",
    "- Dengan adanya fitur dataframe memudahkan untuk membaca sebuah file dan menjadikannya table.\n"
   ]
  },
  {
   "cell_type": "markdown",
   "id": "e832cc92",
   "metadata": {},
   "source": [
    "## Apa yang bisa dilakukan Pandas?\n",
    "- Membaca dan Menuliskan data dalam bentuk CSV, excel, dan lainnya.\n",
    "- Menghitung statistik seperti rata-rata median, nilai maksimum atau minimum dari setiap kolomnya, dan lainnya.\n",
    "- Cleaning data dimana dapat menghilangkan beberapa values yang dianggap kurang memenuhi (seperti, terdapat data yang kosong atau data yang tidak sesuai) dan bisa melakukan filtering data sesuai kriteria yang dibutuhkan serta bisa memvisualisasikan data yang digunakan dalam bentuk plot atau grafik.\n",
    "- Kita juga dapat mengolah data dengan menggunakan operasi seperti join, distinct, group by, agregasi, dan teknik lainnya yang terdapat pada SQL."
   ]
  },
  {
   "cell_type": "markdown",
   "id": "96c86c20",
   "metadata": {},
   "source": [
    "## Install dan Import\n",
    "- Install:\n",
    "    - conda install pandas\n",
    "        atau\n",
    "    - pip install pandas\n",
    "- Jika akan menggunakan di dalam program, perlu dilakukan import:\n",
    "    - import pandas\n",
    "    - Atau biasanya untuk menyingkat penulisan saat diakses, maka diberi nama alias, misalnya \"pd\"\n",
    "    - import pandas as pd"
   ]
  },
  {
   "cell_type": "markdown",
   "id": "c8f1c2a9",
   "metadata": {},
   "source": [
    "## Komponen Utama Pandas\n",
    "- Series dan Dataframe\n",
    "    - Series adalah suatu kolom\n",
    "    - Dataframe adalah kumpulan series, dapat berupa tabel multidimensi"
   ]
  },
  {
   "cell_type": "markdown",
   "id": "09196199",
   "metadata": {},
   "source": [
    "## Pembuatan dataframe\n",
    "- Dataframe dapat terbentuk berasal dari hasil pembacaan data (dengan mengupload file CSV, excel, dan lainnya) atau bisa juga dibuat sendiri (menggunakan python langsung)\n",
    "- Banyak cara untuk membuat dataframe, cara paling sederhana adalah dengan menggunakan struktur data dictionary dalam python\n",
    "- Contoh: \n",
    "    - Misal akan dibuat dataframe penjualan apple dan orange\n",
    "    - Kolom berisi jenis buah, sedangkan setiap baris berisi besarnya penjualan."
   ]
  },
  {
   "cell_type": "markdown",
   "id": "7493f54f",
   "metadata": {},
   "source": [
    "## Fungsi lain\n",
    "- df.head() = pengambilan 5 data pertama\n",
    "- df.head(10) = pengambilan 10 data pertama\n",
    "- df.tail(8) = pengambilan 8 data terakhir\n",
    "- df.columns = menampilkan nama kolom\n",
    "- df[['nama','alamat']] = pilih kolom tertentu\n",
    "\n",
    "\n",
    "- purchases[\"data\"].min() = data terkecil\n",
    "- purchases[\"data\"].max() = data terbesar\n",
    "- purchases[\"data\"].mean() = rata-rata\n",
    "- purchases[\"data\"].sum() = jumlah\n",
    "- purchases[\"data\"].count() = cacah\n",
    "- purchases[purchases['data']==3] = filter data"
   ]
  },
  {
   "cell_type": "markdown",
   "id": "22f55a40",
   "metadata": {},
   "source": [
    "## Operator Logical\n",
    "- logical operators | untuk \"or\" dan & untuk \"and\". \n",
    "    - df[(df['jur'] == 'SI') | (df['jur'] == 'TI')].head()\n",
    "- penggunaan isin\n",
    "    - df[df['jur'].isin(['SI', 'TI'])].head()\n",
    "- jika diinginkan mahasiswa jurusan SI atau TI dan IPK < 3\n",
    "    - df[((df['jur'] == 'SI') | (df['jur'] == 'TI')) & (df['IPK'] < 3))] "
   ]
  }
 ],
 "metadata": {
  "kernelspec": {
   "display_name": "Python 3 (ipykernel)",
   "language": "python",
   "name": "python3"
  },
  "language_info": {
   "codemirror_mode": {
    "name": "ipython",
    "version": 3
   },
   "file_extension": ".py",
   "mimetype": "text/x-python",
   "name": "python",
   "nbconvert_exporter": "python",
   "pygments_lexer": "ipython3",
   "version": "3.9.7"
  }
 },
 "nbformat": 4,
 "nbformat_minor": 5
}
